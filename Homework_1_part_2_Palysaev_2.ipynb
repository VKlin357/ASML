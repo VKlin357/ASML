{
  "cells": [
    {
      "cell_type": "markdown",
      "metadata": {
        "id": "xpO92YkQ-9SB"
      },
      "source": [
        "# ДЗ 1, часть 2. Теория информации"
      ]
    },
    {
      "cell_type": "markdown",
      "metadata": {
        "id": "r-WHknrCqhOY"
      },
      "source": [
        "Имя, Фамилия: Вадим Палысаев\n",
        "\n",
        "группа: 223\n",
        "\n",
        "**Оценка(для проверяющего):** 0 из 10\n",
        "\n",
        "**Дедлайн:** одновременно с частью 3"
      ]
    },
    {
      "cell_type": "code",
      "execution_count": 50,
      "metadata": {
        "id": "cgugMRInqhOZ"
      },
      "outputs": [],
      "source": [
        "#all imports here please\n",
        "import math\n",
        "import pickle as pkl\n",
        "\n",
        "from collections import Counter, OrderedDict\n",
        "import heapq\n",
        "\n",
        "import numpy as np\n",
        "import matplotlib.pyplot as plt\n",
        "%matplotlib inline\n",
        "#... add your own if necessary"
      ]
    },
    {
      "cell_type": "markdown",
      "metadata": {
        "id": "Eahm1hAqqhOa"
      },
      "source": [
        "Энтропию можно использовать не только для описания хаотичности, беспорядочности и уровня неопределённости, но и для того, чтобы исследовать зависимость между случайными величинами, используя теорию информации. Начнём с базовых вещей и постепенно дойдём до ультрапопулярной эвристики выбора важных признаков для машинного обучения -- взаимной информации."
      ]
    },
    {
      "cell_type": "markdown",
      "metadata": {
        "id": "g4hbID4f_ZW7"
      },
      "source": [
        "## Задача 1. Поисследуем энтропию (2 балла)\n",
        "\n",
        "Будем предполагать, что нам даны две случайных величины $X,Y$, можете предполагать, что они дискретные или имеют плотности, выкладок этот факт не изменит, но делайте всё по одному стандарту: укажите ниже и придерживайтесь его на всём протяжении ДЗ, если явно не просят сделать иначе."
      ]
    },
    {
      "cell_type": "markdown",
      "metadata": {
        "id": "R4DQhCmFqhOa"
      },
      "source": [
        "**Choose your weapon/Выберите ваше оружие/Сhoisissez votre arme/Изаберите себи оружje:**  \n",
        "\n",
        "$$\n",
        "\\int .. dx  ~~  \\text{или} ~~ \\sum_i  ~~\\text{(выберите одно)}\n",
        "$$  "
      ]
    },
    {
      "cell_type": "markdown",
      "metadata": {
        "id": "jU9QZbW0_gJi"
      },
      "source": [
        "### Независимость?\n",
        "\n",
        "Покажите, что если две случайных величины $X,Y$ независимы, то $H(X,Y)=H(X)+H(Y)$.\n",
        "\n",
        "Имейте в виду, что слева под знаком энтропии ДВЕ случайных величины, рассматриваемых как 2d-вектор, поэтому матожидание берётся по их совместному закону распределения. Это называется *совместной энтропией* величин $X,Y$."
      ]
    },
    {
      "cell_type": "markdown",
      "metadata": {
        "id": "YltqRCQGqhOb"
      },
      "source": [
        "Запишем определение энтропии:\n",
        "\n",
        "####Энтропия X и Y:\n",
        "$ X $ и $ Y $ — дискретные случайные величины с распределениями вероятностей $ P(X) $ и $ P(Y) $, тогда их энтропии:\n",
        "\n",
        "$$\n",
        "H(X) = -\\sum_{x} P(X=x) \\log P(X=x)\n",
        "$$\n",
        "\n",
        "$$\n",
        "H(Y) = -\\sum_{y} P(Y=y) \\log P(Y=y)\n",
        "$$\n",
        "\n",
        "####Совместная энтропия $ H(X, Y) $:\n",
        "Совместная энтропия $ H(X, Y) $ двух случайных величин $ X $ и $ Y $, рассматриваемых как 2d-вектор, определяется по их совместному закону распределения $ P(X, Y) $:\n",
        "\n",
        "$$\n",
        "H(X, Y) = -\\sum_{x, y} P(X=x, Y=y) \\log P(X=x, Y=y)\n",
        "$$\n",
        "\n",
        "Если $ X $ и $ Y $ независимы, то их совместное распределение $ P(X, Y) $ можно разложить как произведение маргинальных распределений:\n",
        "\n",
        "$$\n",
        "P(X=x, Y=y) = P(X=x) \\cdot P(Y=y)\n",
        "$$\n",
        "\n",
        "\\\n",
        "\n",
        "###Доказательство $H(X, Y) = H(X) + H(Y)$:\n",
        "\n",
        "Подставим это в определение совместной энтропии:\n",
        "\n",
        "$$\n",
        "H(X, Y) = -\\sum_{x, y} P(X=x) P(Y=y) \\log (P(X=x) P(Y=y))\n",
        "$$\n",
        "\n",
        "Раскроем логарифм произведения:\n",
        "\n",
        "$$\n",
        "H(X, Y) = -\\sum_{x, y} P(X=x) P(Y=y) \\left(\\log P(X=x) + \\log P(Y=y)\\right)\n",
        "$$\n",
        "\n",
        "\\\n",
        "\n",
        "Теперь разделим сумму:\n",
        "\n",
        "$$\n",
        "H(X, Y) = -\\sum_{x} P(X=x) \\log P(X=x) \\sum_{y} P(Y=y) - \\sum_{y} P(Y=y) \\log P(Y=y) \\sum_{x} P(X=x)\n",
        "$$\n",
        "\n",
        "\\\n",
        "\n",
        "Так как $\\sum_{y} P(Y=y) = 1$ и $\\sum_{x} P(X=x) = 1$, то:\n",
        "\n",
        "$$\n",
        "H(X, Y) = -\\sum_{x} P(X=x) \\log P(X=x) - \\sum_{y} P(Y=y) \\log P(Y=y)\n",
        "$$\n",
        "\n",
        "то есть:\n",
        "\n",
        "$$\n",
        "H(X, Y) = H(X) + H(Y)\n",
        "$$\n",
        "\n",
        "ч.т.д.\n"
      ]
    },
    {
      "cell_type": "markdown",
      "metadata": {
        "id": "XnlbFCvBqhOb"
      },
      "source": [
        "### Зависимость?"
      ]
    },
    {
      "cell_type": "markdown",
      "metadata": {
        "id": "p3tQZS7nqhOb"
      },
      "source": [
        "Покажите, что в общем случае\n",
        "\n",
        "$$\n",
        "H(X,Y) = H(X) + H(Y \\vert X)\n",
        "$$\n",
        "и вычислите, чему будет равен остаток $H(Y \\vert X)$. Он носит название *условной энтропии*, не путайте с энтропией условного распределения."
      ]
    },
    {
      "cell_type": "markdown",
      "metadata": {
        "id": "GpvDMfK8qhOc"
      },
      "source": [
        "####Запишем определение условной энтропия\n",
        "\n",
        "Условная энтропия $ H(Y|X) $ измеряет неопределённость величины $ Y $, если значение $ X $ уже известно. Она определяется как:\n",
        "\n",
        "$$\n",
        "H(Y|X) = -\\sum_{x, y} P(X=x, Y=y) \\log P(Y=y|X=x)\n",
        "$$\n",
        "\n",
        "\\\n",
        "\n",
        "###Доказательство $ H(X, Y) = H(X) + H(Y|X) $:\n",
        "\n",
        "Рассмотрим совместную энтропию:\n",
        "\n",
        "$$\n",
        "H(X, Y) = -\\sum_{x, y} P(X=x, Y=y) \\log P(X=x, Y=y)\n",
        "$$\n",
        "\n",
        "\\\n",
        "\n",
        "Используя правило произведения вероятностей, $ P(X=x, Y=y) = P(X=x) \\cdot P(Y=y|X=x) $, подставим это в выражение:\n",
        "\n",
        "$$\n",
        "H(X, Y) = -\\sum_{x, y} P(X=x, Y=y) \\log \\left( P(X=x) \\cdot P(Y=y|X=x) \\right)\n",
        "$$\n",
        "\n",
        "Раскроем логарифм произведения:\n",
        "\n",
        "$$\n",
        "H(X, Y) = -\\sum_{x, y} P(X=x, Y=y) \\left( \\log P(X=x) + \\log P(Y=y|X=x) \\right)\n",
        "$$\n",
        "\n",
        "\\\n",
        "\n",
        "Разделим это выражение на две части:\n",
        "\n",
        "$$\n",
        "H(X, Y) = -\\sum_{x, y} P(X=x, Y=y) \\log P(X=x) - \\sum_{x, y} P(X=x, Y=y) \\log P(Y=y|X=x)\n",
        "$$\n",
        "\n",
        "Первая часть:\n",
        "\n",
        "$$\n",
        "-\\sum_{x, y} P(X=x, Y=y) \\log P(X=x) = -\\sum_{x} P(X=x) \\log P(X=x) = H(X)\n",
        "$$\n",
        "\n",
        "Вторая часть:\n",
        "\n",
        "$$\n",
        "-\\sum_{x, y} P(X=x, Y=y) \\log P(Y=y|X=x) = H(Y|X)\n",
        "$$\n",
        "\n",
        "\\\n",
        "\n",
        "Таким образом, мы получаем:\n",
        "\n",
        "$$\n",
        "H(X, Y) = H(X) + H(Y|X)\n",
        "$$\n",
        "\n",
        "ч.т.д."
      ]
    },
    {
      "cell_type": "markdown",
      "metadata": {
        "id": "q7fR8cTYqhOc"
      },
      "source": [
        "!! Обоснуйте, какой может быть физический смысл $H(Y\\vert X)$ (что она измеряет?) с точки зрения теории кодирования в случае дискретных СВ $X,Y$."
      ]
    },
    {
      "cell_type": "markdown",
      "metadata": {
        "id": "17mbJu2hqhOc"
      },
      "source": [
        "Условная энтропия $ H(Y|X) $ — это мера того, сколько неопределённости остаётся относительно величины $ Y $, если значение величины $ X $ уже известно. Другими словами, это показывает, сколько дополнительной информации нужно, чтобы точно определить $ Y $, зная $ X $.\n",
        "\n",
        "В контексте кодирования информации, условная энтропия $ H(Y|X) $ — это среднее количество битов, которые придётся добавить для кодирования значений $ Y $, если мы уже знаем $ X $.\n",
        "\n",
        "Например, представьте, что мы хотим передать информацию о двух переменных $ X $ и $ Y $. Если $ X $ уже известна, то $ H(Y|X) $ помогает сократить длину сообщения, потому что часть информации о $ Y $ уже подсказана значением $ X $."
      ]
    },
    {
      "cell_type": "markdown",
      "metadata": {
        "id": "ZDNXyjtgAdnv"
      },
      "source": [
        "## Задача 2. Взаимная информация (2 балла)\n",
        "\n",
        "Можно рассмотреть разницу\n",
        "\n",
        "$$\n",
        "I(X,Y) = H(X) - H(X \\vert Y),\n",
        "$$\n",
        "\n",
        "которая отражает в некотором смысле (вы наверняка об этом думали в окошке выше) уровень использования информации о значении $Y$ при кодировании $X$ (если мы о кодировании). Эта величина носит название *взаимной информации* и является ещё одним хорошим способом исследования зависимости между случайными величинами. Библиотека `sklearn` позволяет оценивать её по данным и тем самым выделять самые важные признаки для моделей машинного обучения."
      ]
    },
    {
      "cell_type": "markdown",
      "metadata": {
        "id": "9aMyr0QdAdnw"
      },
      "source": [
        "### Симметричность\n",
        "\n",
        "Докажите, что $I(X,Y)=I(Y,X)$."
      ]
    },
    {
      "cell_type": "markdown",
      "metadata": {
        "id": "WB7KVnmeqhOc"
      },
      "source": [
        "Для доказательства симметричности, давайте выразим взаимную информацию через совместную и условные энтропии:\n",
        "\n",
        "####Взаимная информация:\n",
        "\n",
        "$$\n",
        "I(X, Y) = H(X) - H(X|Y),\n",
        "$$\n",
        "\n",
        "$$\n",
        "I(Y, X) = H(Y) - H(Y|X).\n",
        "$$\n",
        "\n",
        "\\\n",
        "\n",
        "Теперь выразим ее как разность между суммой энтропий $ H(X) + H(Y) $ и совместной энтропией $ H(X, Y) $:\n",
        "\n",
        "$$\n",
        "I(X, Y) = H(X) + H(Y) - H(X, Y)\n",
        "$$\n",
        "\n",
        "\\\n",
        "\n",
        "Используя это определение, легко видеть, что выражение для $ I(X, Y) $ и $ I(Y, X) $ совпадают, так как совместная энтропия $ H(X, Y) $ симметрична относительно $ X $ и $ Y $, т.е. $ H(X, Y) = H(Y, X) $:\n",
        "\n",
        "Вероятность совместного события $ P(X=x, Y=y) $ не зависит от порядка, в котором мы рассматриваем случайные величины $ X $ и $ Y $. Поэтому $ P(X=x, Y=y) = P(Y=y, X=x) $:\n",
        "\n",
        "$$\n",
        "H(X, Y) = -\\sum_{x, y} P(X=x, Y=y) \\log P(X=x, Y=y) = -\\sum_{y, x} P(Y=y, X=x) \\log P(Y=y, X=x) = H(Y, X)\n",
        "$$\n",
        "\n",
        "\\\n",
        "\n",
        "Таким образом, из симметричности совместной энтропии следует, что\n",
        "\n",
        "$$\n",
        "I(X, Y) = H(X) + H(Y) - H(X, Y) = I(Y, X)\n",
        "$$\n",
        "\n",
        "Это доказывает, что взаимная информация симметрична, т.е:\n",
        "\n",
        "$$ I(X, Y) = I(Y, X) $$\n",
        "\n",
        "ч.т.д."
      ]
    },
    {
      "cell_type": "markdown",
      "metadata": {
        "id": "f2NbxQbPqhOc"
      },
      "source": [
        "### Связь с KL\n",
        "\n",
        "Докажите, что $I(X,Y)= D_{KL}( p_{X,Y} \\vert p_{X}p_{Y})$. Слева совместное распределение $X,Y$, справа -- произведение вероятностей(или плотностей) $X,Y$."
      ]
    },
    {
      "cell_type": "markdown",
      "metadata": {
        "id": "Jd6AICLiAdnx"
      },
      "source": [
        "Выпишем и проанализируем определение дивергенции Кульбака-Лейблера:\n",
        "\n",
        "Дивергенция Кульбака-Лейблера $ D_{KL}(p_{X,Y} | p_X p_Y) $ измеряет расстояние между совместным распределением $ p_{X,Y} $ и произведением распределений $ p_X $ и $ p_Y $:\n",
        "\n",
        "$$\n",
        "D_{KL}(p_{X,Y} \\| p_X p_Y) = \\sum_{x, y} p_{X,Y}(x, y) \\log \\frac{p_{X,Y}(x, y)}{p_X(x) p_Y(y)}\n",
        "$$\n",
        "\n",
        "\\\n",
        "\n",
        "Теперь раскроем логарифм в выражении для $ D_{KL}(p_{X,Y} \\| p_X p_Y) $:\n",
        "\n",
        "$$\n",
        "D_{KL}(p_{X,Y} \\| p_X p_Y) = \\sum_{x, y} p_{X,Y}(x, y) \\left( \\log p_{X,Y}(x, y) - \\log (p_X(x) p_Y(y)) \\right)\n",
        "$$\n",
        "\n",
        "\\\n",
        "\n",
        "Разделим на два слагаемых:\n",
        "\n",
        "$$\n",
        "D_{KL}(p_{X,Y} \\| p_X p_Y) = \\sum_{x, y} p_{X,Y}(x, y) \\log p_{X,Y}(x, y) - \\sum_{x, y} p_{X,Y}(x, y) \\left( \\log p_X(x) + \\log p_Y(y) \\right)\n",
        "$$\n",
        "\n",
        "Первое слагаемое является отрицательной совместной энтропией:\n",
        "\n",
        "$$\n",
        "\\sum_{x, y} p_{X,Y}(x, y) \\log p_{X,Y}(x, y) = -H(X, Y)\n",
        "$$\n",
        "\n",
        "\\\n",
        "\n",
        "Второе слагаемое можно разделить на два отдельных выражения, каждое из которых является энтропией $ X $ и $ Y $:\n",
        "\n",
        "$$\n",
        "\\sum_{x, y} p_{X,Y}(x, y) \\log p_X(x) = -H(X)\n",
        "$$\n",
        "\n",
        "и\n",
        "\n",
        "$$\n",
        "\\sum_{x, y} p_{X,Y}(x, y) \\log p_Y(y) = -H(Y)\n",
        "$$\n",
        "\n",
        "тогда:\n",
        "\n",
        "$$\n",
        "D_{KL}(p_{X,Y} \\| p_X p_Y) = H(X) + H(Y) - H(X, Y) = I(X, Y)\n",
        "$$\n",
        "\n",
        "\\\n",
        "\n",
        "Следовательно образом, мы доказали, что\n",
        "\n",
        "$$\n",
        "I(X, Y) = D_{KL}(p_{X,Y} \\| p_X p_Y)\n",
        "$$\n",
        "\n",
        "ч.т.д.\n"
      ]
    },
    {
      "cell_type": "markdown",
      "metadata": {
        "id": "ffbnQUbLqhOd"
      },
      "source": [
        "### Какой смысл?..\n",
        "\n",
        "Как вы думаете, как интерпретируется $I(X,Y)$ в терминах теории кодирования (при дискретных $X,Y$)? Что измеряет эта величина?"
      ]
    },
    {
      "cell_type": "markdown",
      "metadata": {
        "id": "M_0X5gw6qhOd"
      },
      "source": [
        "В терминах теории кодирования взаимная информация $ I(X, Y) $ показывает, сколько информации о величине $ X $ можно узнать, зная $ Y $ (и наоборот).\n",
        "\n",
        "Она измеряет, насколько знание одной величины уменьшает неопределённость относительно другой. Если $ X $ и $ Y $ тесно связаны, то знание $ Y $ сильно уменьшит неопределённость $ X $, и взаимная информация будет высокой. Если же $ X $ и $ Y $ независимы, то взаимная информация равна нулю, так как знание $ Y $ не даёт никаких данных о $ X $.\n",
        "\n",
        "В задачах кодирования это позволяет сократить количество битов, нужных для передачи информации о двух величинах, поскольку часть информации уже заложена в зависимости между ними."
      ]
    },
    {
      "cell_type": "markdown",
      "metadata": {
        "id": "tl6zuYbNqhOd"
      },
      "source": [
        "## Максимальная энтропия (3 балла)\n",
        "\n",
        "### Экспоненциальное распределение\n",
        "\n",
        "(1 балл) Вычислите энтропию для экспоненциального распределения $Exp(\\lambda)$ и распределения Лапласа $Laplace(0,\\lambda)$, имеющее плотность $\\frac{\\lambda}{2} e^{-\\lambda \\vert x\\vert }$."
      ]
    },
    {
      "cell_type": "markdown",
      "metadata": {
        "id": "zGQbqHy8qhOd"
      },
      "source": [
        "###Энтропия экспоненциального распределения $ \\text{Exp}(\\lambda) $:\n",
        "\n",
        "Пусть $ X \\sim \\text{Exp}(\\lambda) $ с плотностью вероятности:\n",
        "\n",
        "$$\n",
        "f_X(x) = \\lambda e^{-\\lambda x}, \\quad x \\geq 0\n",
        "$$\n",
        "\n",
        "Энтропия для непрерывной случайной величины $ X $ определяется как:\n",
        "\n",
        "$$\n",
        "H(X) = -\\int_{-\\infty}^{\\infty} f_X(x) \\log f_X(x) \\, dx\n",
        "$$\n",
        "\n",
        "\\\n",
        "\n",
        "Теперь подставим плотность:\n",
        "\n",
        "$$\n",
        "H(X) = -\\int_{0}^{\\infty} \\lambda e^{-\\lambda x} \\log(\\lambda e^{-\\lambda x}) \\, dx\n",
        "$$\n",
        "\n",
        "Разложим логарифм:\n",
        "\n",
        "$$\n",
        "H(X) = -\\int_{0}^{\\infty} \\lambda e^{-\\lambda x} \\left( \\log \\lambda - \\lambda x \\right) \\, dx\n",
        "$$\n",
        "\n",
        "\\\n",
        "\n",
        "Разделим интеграл на два слагаемых:\n",
        "\n",
        "$$\n",
        "H(X) = -\\int_{0}^{\\infty} \\lambda e^{-\\lambda x} \\log \\lambda \\, dx + \\int_{0}^{\\infty} \\lambda e^{-\\lambda x} \\lambda x \\, dx\n",
        "$$\n",
        "\n",
        "Первый интеграл:\n",
        "\n",
        "$$\n",
        "-\\log \\lambda \\int_{0}^{\\infty} \\lambda e^{-\\lambda x} \\, dx = -\\log \\lambda\n",
        "$$\n",
        "\n",
        "Второй интеграл:\n",
        "\n",
        "$$\n",
        "\\lambda \\int_{0}^{\\infty} x \\lambda e^{-\\lambda x} \\, dx = \\frac{1}{\\lambda}\n",
        "$$\n",
        "\n",
        "\\\n",
        "\n",
        "Тогда энтропия экспоненциального распределения равна:\n",
        "\n",
        "$$\n",
        "H(X) = 1 + \\log \\frac{1}{\\lambda} = 1 - \\log \\lambda\n",
        "$$\n",
        "\n",
        "\\\n",
        "\n",
        "###Энтропия распределения Лапласа $ \\text{Laplace}(0, \\lambda) $\n",
        "\n",
        "Пусть $ Y \\sim \\text{Laplace}(0, \\lambda) $ с плотностью вероятности:\n",
        "\n",
        "$$\n",
        "f_Y(y) = \\frac{\\lambda}{2} e^{-\\lambda |y|}\n",
        "$$\n",
        "\n",
        "Энтропия для распределения Лапласа выглядит так:\n",
        "\n",
        "$$\n",
        "H(Y) = -\\int_{-\\infty}^{\\infty} f_Y(y) \\log f_Y(y) \\, dy\n",
        "$$\n",
        "\n",
        "\\\n",
        "\n",
        "Теперь подставим плотность $ f_Y(y) $:\n",
        "\n",
        "$$\n",
        "H(Y) = -\\int_{-\\infty}^{\\infty} \\frac{\\lambda}{2} e^{-\\lambda |y|} \\log \\left( \\frac{\\lambda}{2} e^{-\\lambda |y|} \\right) \\, dy\n",
        "$$\n",
        "\n",
        "И раскроем логарифм:\n",
        "\n",
        "$$\n",
        "H(Y) = -\\int_{-\\infty}^{\\infty} \\frac{\\lambda}{2} e^{-\\lambda |y|} \\left( \\log \\frac{\\lambda}{2} - \\lambda |y| \\right) \\, dy\n",
        "$$\n",
        "\n",
        "\\\n",
        "\n",
        "Разделю интеграл на два слагаемых:\n",
        "\n",
        "$$\n",
        "H(Y) = -\\log \\frac{\\lambda}{2} \\int_{-\\infty}^{\\infty} \\frac{\\lambda}{2} e^{-\\lambda |y|} \\, dy + \\int_{-\\infty}^{\\infty} \\frac{\\lambda}{2} e^{-\\lambda |y|} \\cdot \\lambda |y| \\, dy\n",
        "$$\n",
        "\n",
        "Первый интеграл:\n",
        "\n",
        "$$\n",
        "-\\log \\frac{\\lambda}{2}\n",
        "$$\n",
        "\n",
        "А второй равен:\n",
        "\n",
        "$$\n",
        "\\frac{2}{\\lambda}\n",
        "$$\n",
        "\n",
        "Энтропия распределения Лапласа:\n",
        "\n",
        "$$\n",
        "H(Y) = 1 + \\log \\frac{2}{\\lambda}\n",
        "$$"
      ]
    },
    {
      "cell_type": "markdown",
      "metadata": {
        "id": "9MLErYhHqhOd"
      },
      "source": [
        "\n",
        "(2 балла) Докажите, что Экспоненциальное распределение $Exp(\\lambda)$ имеет максимальную энтропию среди всех абсолютно непрерывных вероятностных распределений с фиксированным средним и имеющих ненулевую плотность в области $x\\geq 0$."
      ]
    },
    {
      "cell_type": "markdown",
      "metadata": {
        "id": "nepgUjGaqhOd"
      },
      "source": [
        "Для доказательства воспользуемс кросс-энтропией:\n",
        "\n",
        "Пусть $ p(x) $ — плотность экспоненциального распределения с параметром $ \\lambda $, а $ p'(x) $ — плотность произвольного другого распределения, удовлетворяющего заданным условиям.\n",
        "\n",
        "Кросс-энтропия $ CE(p' | p) $ между этими распределениями определяется как:\n",
        "\n",
        "$$\n",
        "CE(p' | p) = - \\int_{\\mathbb{R}} p'(x) \\log p(x) \\, dx\n",
        "$$\n",
        "\n",
        "\\\n",
        "\n",
        "Плотность экспоненциального распределения имеет вид $ p(x) = \\lambda e^{-\\lambda x} $ для $ x \\geq 0 $. Подставляем эту плотность в выражение для кросс-энтропии:\n",
        "\n",
        "$$\n",
        "CE(p' | p) = - \\int_{\\mathbb{R}} p'(x) \\log (\\lambda e^{-\\lambda x}) \\, dx\n",
        "$$\n",
        "\n",
        "Разложим логарифм:\n",
        "\n",
        "$$\n",
        "CE(p' | p) = - \\int_{\\mathbb{R}} p'(x) \\left( \\log \\lambda - \\lambda x \\right) \\, dx\n",
        "$$\n",
        "\n",
        "Разделим это на два интеграла:\n",
        "\n",
        "$$\n",
        "CE(p' | p) = - \\int_{\\mathbb{R}} p'(x) \\log \\lambda \\, dx + \\int_{\\mathbb{R}} p'(x) \\lambda x \\, dx\n",
        "$$\n",
        "\n",
        "\\\n",
        "\n",
        "Рассмотрим каждый интеграл отдельно:\n",
        "Первый интеграл:\n",
        "\n",
        "$$\n",
        "-\\log \\lambda \\int_{\\mathbb{R}} p'(x) \\, dx = -\\log \\lambda\n",
        "$$\n",
        "\n",
        "Второй интеграл учитывает, что $ \\int_{\\mathbb{R}} p'(x) x \\, dx = \\frac{1}{\\lambda} $, поскольку среднее значение фиксировано:\n",
        "\n",
        "$$\n",
        "\\lambda \\int_{\\mathbb{R}} p'(x) x \\, dx = \\lambda \\cdot \\frac{1}{\\lambda} = 1\n",
        "$$\n",
        "\n",
        "Таким образом, мы получаем:\n",
        "\n",
        "$$\n",
        "CE(p' | p) = -\\log \\lambda + 1\n",
        "$$\n",
        "\n",
        "Что равно энтропии экспоненциального распределения.\n",
        "\n",
        "\\\n",
        "\n",
        "По свойству кросс-энтропии:\n",
        "\n",
        "$$CE(p' | p) \\geq H(p') $$\n",
        "\n",
        "Поэтому:\n",
        "\n",
        "$$\n",
        "H(p) = CE(p' | p) \\geq H(p')\n",
        "$$\n",
        "\n",
        "Это доказывает, что экспоненциальное распределение $ \\text{Exp}(\\lambda) $ имеет максимальную энтропию среди всех распределений с фиксированным средним и ненулевой плотностью на $ x \\geq 0 $.\n",
        "\n",
        "ч.т.д.\n"
      ]
    },
    {
      "cell_type": "markdown",
      "metadata": {
        "id": "P8ybBmhsqhOd"
      },
      "source": [
        "## Строим свой код, основанный на частотах (3 балла)\n",
        "\n",
        "Представим себе для примера достаточно большую книгу (например, Войну и Мир Льва Николаевича Толстого). Для того, чтобы записывать буквы в кодировке UTF-8 требуется от 2 до 4 байт (каждый 8бит). Но книга -- это не просто какой-то iid равновероятный поток символов, а структурированный текст, структуру которого можно по-разному использовать. К примеру, мы можем задуматься над тем, чтобы сжать её, используя информацию о том, какие символы встречаются чаще: ведь более частые можно кодировать более короткими кодовыми словами, а более редкие -- более длинными.\n",
        "\n",
        "В этом идея [кода Хаффмана](https://compression.ru/download/articles/huff/huffman_1952_minimum-redundancy-codes.pdf), который мы попробуем поисследовать в самой простой наивной имплементации."
      ]
    },
    {
      "cell_type": "markdown",
      "metadata": {
        "id": "WlERDV6QqhOd"
      },
      "source": [
        "### Вычисляем языковую статистику\n",
        "\n",
        "Возьмём для примера текст вики-страницы [МО1](http://wiki.cs.hse.ru/%D0%9C%D0%B0%D1%88%D0%B8%D0%BD%D0%BD%D0%BE%D0%B5_%D0%BE%D0%B1%D1%83%D1%87%D0%B5%D0%BD%D0%B8%D0%B5_1)"
      ]
    },
    {
      "cell_type": "code",
      "execution_count": 51,
      "metadata": {
        "id": "cRqnLlxLqhOe",
        "colab": {
          "base_uri": "https://localhost:8080/"
        },
        "outputId": "aa9842b0-d2eb-49a0-923d-4f259fc2c136"
      },
      "outputs": [
        {
          "output_type": "stream",
          "name": "stdout",
          "text": [
            "== О курсе ==\n",
            "\n",
            "\n",
            "\n",
            "[[Файл:ML_surfaces.png|280px|borderless|left]]\n",
            "\n",
            "\n",
            "\n",
            "Курс читается для студентов 3-го курса [https://cs.hse.ru/ami ПМИ ФКН ВШЭ] в 1-2 модулях.\n",
            "\n",
            "\n",
            "\n",
            "Проводится с 2016 го\n"
          ]
        }
      ],
      "source": [
        "with open(\"moText.txt\",\"r\", encoding=\"utf-8\") as f:\n",
        "    MOText = \"\\n\".join(f.readlines())\n",
        "\n",
        "print(MOText[:180])"
      ]
    },
    {
      "cell_type": "markdown",
      "metadata": {
        "id": "XRRrzUIWqhOe"
      },
      "source": [
        "Это не сильно большой, но не очень маленький текст."
      ]
    },
    {
      "cell_type": "code",
      "execution_count": 52,
      "metadata": {
        "id": "48rFR-CfqhOe",
        "colab": {
          "base_uri": "https://localhost:8080/"
        },
        "outputId": "28ad804f-9074-4107-a7e4-bb73d954e5e6"
      },
      "outputs": [
        {
          "output_type": "stream",
          "name": "stdout",
          "text": [
            "10001\n"
          ]
        }
      ],
      "source": [
        "print(len(MOText))"
      ]
    },
    {
      "cell_type": "markdown",
      "metadata": {
        "id": "C5gD3xBdqhOe"
      },
      "source": [
        "Вычислите частоту каждого символа, сохранив их в упорядоченный словарь (OrderedDict, пригодится для сортировок)  вида {<символ>: <частота>}."
      ]
    },
    {
      "cell_type": "code",
      "execution_count": 53,
      "metadata": {
        "id": "jz_BT0VvqhOe"
      },
      "outputs": [],
      "source": [
        "symFreqs = OrderedDict()\n",
        "for i in MOText:\n",
        "    if i in symFreqs:\n",
        "        symFreqs[i] += 1\n",
        "    else:\n",
        "        symFreqs[i] = 1\n",
        "\n",
        "symFreqs = OrderedDict(sorted(symFreqs.items(), key=lambda item: item[1], reverse=True))"
      ]
    },
    {
      "cell_type": "code",
      "execution_count": 54,
      "metadata": {
        "id": "_WzlR7ICqhOe",
        "colab": {
          "base_uri": "https://localhost:8080/"
        },
        "outputId": "67712026-94e9-4ff0-d0bb-cc2ad97dd8a1"
      },
      "outputs": [
        {
          "output_type": "stream",
          "name": "stdout",
          "text": [
            " : 912\n",
            "\n",
            ": 525\n",
            "е: 389\n",
            "а: 378\n",
            "о: 369\n",
            "н: 350\n",
            "и: 343\n",
            "t: 305\n",
            "/: 281\n",
            "e: 217\n",
            "s: 197\n",
            "р: 185\n",
            "|: 185\n",
            "с: 180\n",
            "т: 175\n",
            ".: 163\n",
            "л: 159\n",
            "в: 155\n",
            "h: 147\n",
            "a: 145\n",
            "д: 143\n",
            "2: 140\n",
            "o: 140\n",
            "к: 134\n",
            "i: 134\n",
            "r: 125\n",
            "m: 125\n",
            "p: 114\n",
            "м: 106\n",
            "n: 105\n",
            "у: 99\n",
            ":: 96\n",
            "=: 89\n",
            "ч: 89\n",
            "l: 87\n",
            "п: 85\n",
            "[: 81\n",
            "]: 81\n",
            "0: 77\n",
            "-: 71\n",
            "я: 70\n",
            "ы: 70\n",
            "c: 67\n",
            "1: 64\n",
            "й: 63\n",
            "u: 59\n",
            "з: 59\n",
            "б: 58\n",
            "П: 57\n",
            "г: 54\n",
            "М: 53\n",
            "_: 52\n",
            "k: 48\n",
            "d: 46\n",
            "g: 44\n",
            "w: 43\n",
            "ь: 43\n",
            "К: 41\n",
            "И: 38\n",
            "А: 38\n",
            "y: 35\n",
            "ш: 35\n",
            ",: 33\n",
            "С: 32\n",
            "Д: 32\n",
            "b: 30\n",
            "v: 30\n",
            "ц: 29\n",
            "Б: 29\n",
            "M: 27\n",
            "В: 26\n",
            "f: 24\n",
            "': 24\n",
            "*: 21\n",
            "P: 20\n",
            "ж: 19\n",
            "х: 18\n",
            "+: 18\n",
            "Р: 17\n",
            "T: 17\n",
            "3: 16\n",
            "5: 16\n",
            "C: 16\n",
            "9: 16\n",
            "ю: 16\n",
            "Н: 15\n",
            "6: 15\n",
            "N: 15\n",
            "4: 14\n",
            "О: 13\n",
            "L: 13\n",
            "x: 13\n",
            "S: 13\n",
            "7: 13\n",
            "(: 13\n",
            "): 13\n",
            "Э: 12\n",
            "A: 12\n",
            "R: 12\n",
            "ф: 12\n",
            "H: 11\n",
            "!: 11\n",
            "З: 11\n",
            "F: 10\n",
            "Z: 10\n",
            "8: 9\n",
            "G: 9\n",
            "D: 9\n",
            "W: 9\n",
            "Т: 9\n",
            "E: 8\n",
            "V: 8\n",
            "щ: 8\n",
            "U: 7\n",
            "q: 7\n",
            "э: 7\n",
            "z: 7\n",
            "J: 7\n",
            "I: 7\n",
            "Ф: 6\n",
            "Ш: 6\n",
            "Е: 6\n",
            "K: 6\n",
            "X: 5\n",
            "?: 5\n",
            "B: 5\n",
            "ё: 5\n",
            "Y: 5\n",
            "У: 5\n",
            "Л: 4\n",
            "\": 4\n",
            "—: 4\n",
            "O: 3\n",
            "@: 3\n",
            "Я: 3\n",
            "%: 3\n",
            "Q: 2\n",
            "<: 2\n",
            "{: 2\n",
            "Г: 2\n",
            "}: 2\n",
            "&: 1\n",
            ">: 1\n",
            "ъ: 1\n",
            "Ч: 1\n",
            "j: 1\n",
            "Ю: 1\n",
            "Ж: 1\n",
            "In total 148 unique symbols, max freq= 912\n"
          ]
        }
      ],
      "source": [
        "for key,val in symFreqs.items():\n",
        "    print(f\"{key}: {val}\")\n",
        "print(f\"In total {len(symFreqs)} unique symbols, max freq= {max([val for val in symFreqs.values()])}\")"
      ]
    },
    {
      "cell_type": "markdown",
      "metadata": {
        "id": "nk-JtQRbqhOe"
      },
      "source": [
        "### Строим Кодер и Декодер Хаффмана"
      ]
    },
    {
      "cell_type": "markdown",
      "metadata": {
        "id": "7Kq8UCY3qhOf"
      },
      "source": [
        "Это хорошее упражнение для ценителей алгоритмов, но давайте сократим себе время и попробуем адаптировать одну из [доступных реализаций](https://www.geeksforgeeks.org/huffman-coding-in-python/) под наш сценарий, обернув в привычную классовую структуру и сохранив максимальную представленность самого алгоритма."
      ]
    },
    {
      "cell_type": "code",
      "execution_count": 55,
      "metadata": {
        "id": "taB7sYzrqhOf",
        "colab": {
          "base_uri": "https://localhost:8080/"
        },
        "outputId": "79383198-8cd8-4303-c497-34a8d0667c0c"
      },
      "outputs": [
        {
          "output_type": "stream",
          "name": "stdout",
          "text": [
            "Character: f, Code: 0\n",
            "Character: a, Code: 1000\n",
            "Character: b, Code: 1001\n",
            "Character: c, Code: 101\n",
            "Character: d, Code: 110\n",
            "Character: e, Code: 111\n"
          ]
        }
      ],
      "source": [
        "#taken from https://www.geeksforgeeks.org/huffman-coding-in-python/\n",
        "class Node:\n",
        "    def __init__(self, symbol=None, frequency=None):\n",
        "        #print(\"CREATING\", symbol, frequency)\n",
        "        self.symbol = symbol\n",
        "        self.frequency = frequency\n",
        "        self.left = None\n",
        "        self.right = None\n",
        "\n",
        "    def __lt__(self, other):\n",
        "        return self.frequency < other.frequency\n",
        "\n",
        "def build_huffman_tree(chars, freq):\n",
        "\n",
        "    # Create a priority queue of nodes\n",
        "    priority_queue = [Node(char, f) for char, f in zip(chars, freq)]\n",
        "    heapq.heapify(priority_queue)\n",
        "\n",
        "    # Build the Huffman tree\n",
        "    while len(priority_queue) > 1:\n",
        "        left_child = heapq.heappop(priority_queue)\n",
        "        right_child = heapq.heappop(priority_queue)\n",
        "        merged_node = Node(frequency=left_child.frequency + right_child.frequency)\n",
        "        merged_node.left = left_child\n",
        "        merged_node.right = right_child\n",
        "        heapq.heappush(priority_queue, merged_node)\n",
        "\n",
        "    return priority_queue[0]\n",
        "\n",
        "def generate_huffman_codes(node, code=\"\", huffman_codes={}):\n",
        "    if node is not None:\n",
        "        if node.symbol is not None:\n",
        "            huffman_codes[node.symbol] = code\n",
        "        else:\n",
        "            generate_huffman_codes(node.left, code + \"0\", huffman_codes)\n",
        "            generate_huffman_codes(node.right, code + \"1\", huffman_codes)\n",
        "\n",
        "    return huffman_codes\n",
        "\n",
        "def runTest():\n",
        "    # Given example (try it to test)\n",
        "    chars = ['a', 'b', 'c', 'd', 'e', 'f']\n",
        "    freq = [4, 7, 15, 17, 22, 42]\n",
        "\n",
        "    # Build the Huffman tree\n",
        "    root = build_huffman_tree(chars, freq)\n",
        "\n",
        "    # Generate Huffman codes\n",
        "    huffman_codes = generate_huffman_codes(root)\n",
        "\n",
        "    # Print Huffman codes\n",
        "    for char, code in huffman_codes.items():\n",
        "        print(f\"Character: {char}, Code: {code}\")\n",
        "\n",
        "runTest()"
      ]
    },
    {
      "cell_type": "markdown",
      "metadata": {
        "id": "Qwk2JJx9qhOf"
      },
      "source": [
        "Надеемся, что этот код заработал.... Теперь напишем кодер, используя эту технологию."
      ]
    },
    {
      "cell_type": "code",
      "execution_count": 56,
      "metadata": {
        "id": "6AYyxe2fqhOf"
      },
      "outputs": [],
      "source": [
        "class HuffmanCoderDecoder:\n",
        "\n",
        "    def __init__(self,symbolProbaTable):\n",
        "        \"\"\"_summary_\n",
        "\n",
        "        Args:\n",
        "            symbolProbaTable (dict): a dict with symbol(keys) and probabilities (val)\n",
        "        \"\"\"\n",
        "        self.symbols = list(symbolProbaTable.keys())\n",
        "        self.probas = list(symbolProbaTable.values())\n",
        "        self.symbolProbaTable = symbolProbaTable\n",
        "        self.root = None\n",
        "        self.encoderTable = {}\n",
        "        self.decoderTable = {}\n",
        "        self.fit()\n",
        "\n",
        "    def fit(self):\n",
        "        \"\"\"\n",
        "        Sets up encoder and decoder tables\n",
        "        \"\"\"\n",
        "        self.root = build_huffman_tree(self.symbols, self.probas)\n",
        "        self.encoderTable = generate_huffman_codes(self.root)\n",
        "        self.decoderTable = {code: char for char, code in self.encoderTable.items()}\n",
        "\n",
        "    def encode(self, text):\n",
        "        \"\"\"Encodes the text and returns encoded text\n",
        "\n",
        "        Args:\n",
        "            text (str): text to encode\n",
        "        Returns:\n",
        "            encodedText (str): encoded text\n",
        "        \"\"\"\n",
        "        encodedText = \"\".join([self.encoderTable[char] for char in text if char in self.encoderTable])\n",
        "        return encodedText\n",
        "\n",
        "    def decode(self, text):\n",
        "        \"\"\"Decodes the encoded text and returns decoded text\n",
        "\n",
        "        Args:\n",
        "            text (str): text to decode\n",
        "        Returns:\n",
        "            decodedText (str): decoded text\n",
        "        \"\"\"\n",
        "        decodedText = \"\"\n",
        "        code = \"\"\n",
        "        for bit in text:\n",
        "            code += bit\n",
        "            if code in self.decoderTable:\n",
        "                decodedText += self.decoderTable[code]\n",
        "                code = \"\"\n",
        "        return decodedText"
      ]
    },
    {
      "cell_type": "code",
      "execution_count": 57,
      "metadata": {
        "id": "cu1BDe8YqhOf"
      },
      "outputs": [],
      "source": [
        "textSample = MOText[:200]\n",
        "\n",
        "#Create coder\n",
        "huff = HuffmanCoderDecoder(symFreqs)\n",
        "#Encode text\n",
        "#YOUR CODE\n",
        "encText = huff.encode(textSample)\n",
        "#decode text to check if it works\n",
        "#YOUR CODE\n",
        "decText = huff.decode(encText)"
      ]
    },
    {
      "cell_type": "code",
      "execution_count": 58,
      "metadata": {
        "id": "KbTF-Rx-qhOf",
        "colab": {
          "base_uri": "https://localhost:8080/"
        },
        "outputId": "609a5511-eda6-4ded-eaac-113cb5b15f47"
      },
      "outputs": [
        {
          "output_type": "stream",
          "name": "stdout",
          "text": [
            "1011100101110000011111010000000011111101111110011101111111000001011100101110001000100010001001001001100100111101100000110100011000100011110111011110001111101101111111000011101000100010010111101100110111010011101111101111010100101111111011101111011101011001001011101110010110111111111111011101101101100100010011101011000101111011000111101001011101101011110111101011101011001010110101111011101100111000010011001001100010001000100010010011010110111111001110111100010110111010010110011010111001011001011110110101000011011100011011010100010111110110011011110110111110010101101100110001000100000011001110111000111110011100000000111111011111100111011111101000010010010111101000010000111111011101011011100110001100001110111101010010101111011101011110110010100101100100010110001110100101001010000011111011111110000111110100011101100000100110100010010110001111000101101101011111011010101001100000100010000001101001110000101110001111001110000110111101111100011011010101110011110010101000100010001001111101111001111000100010110000110111010010110010111101101010001011110000101110111111001101000100101000011111001110000110111101010010101000100010001001101100101101100101101100100101010010111100001111101100110001100111101110110110010110110010110110010\n"
          ]
        }
      ],
      "source": [
        "print(encText)"
      ]
    },
    {
      "cell_type": "code",
      "execution_count": 59,
      "metadata": {
        "id": "s2pUF47IqhOk",
        "colab": {
          "base_uri": "https://localhost:8080/"
        },
        "outputId": "589cf663-66a7-4069-bd58-7a6845da9cc6"
      },
      "outputs": [
        {
          "output_type": "stream",
          "name": "stdout",
          "text": [
            "== О курсе ==\n",
            "\n",
            "\n",
            "\n",
            "[[Файл:ML_surfaces.png|280px|borderless|left]]\n",
            "\n",
            "\n",
            "\n",
            "Курс читается для студентов 3-го курса [https://cs.hse.ru/ami ПМИ ФКН ВШЭ] в 1-2 модулях.\n",
            "\n",
            "\n",
            "\n",
            "Проводится с 2016 года.\n",
            "\n",
            "\n",
            "\n",
            "'''Лектор:'''\n"
          ]
        }
      ],
      "source": [
        "print(decText)"
      ]
    },
    {
      "cell_type": "code",
      "execution_count": 60,
      "metadata": {
        "id": "OTt3JaXuqhOk",
        "colab": {
          "base_uri": "https://localhost:8080/"
        },
        "outputId": "ef403d39-7f93-4324-b90d-257e218b3e76"
      },
      "outputs": [
        {
          "output_type": "stream",
          "name": "stdout",
          "text": [
            "== О курсе ==\n",
            "\n",
            "\n",
            "\n",
            "[[Файл:ML_surfaces.png|280px|borderless|left]]\n",
            "\n",
            "\n",
            "\n",
            "Курс читается для студентов 3-го курса [https://cs.hse.ru/ami ПМИ ФКН ВШЭ] в 1-2 модулях.\n",
            "\n",
            "\n",
            "\n",
            "Проводится с 2016 года.\n",
            "\n",
            "\n",
            "\n",
            "'''Лектор:'''\n"
          ]
        }
      ],
      "source": [
        "print(textSample)"
      ]
    },
    {
      "cell_type": "markdown",
      "metadata": {
        "id": "2ad4FVQ2qhOk"
      },
      "source": [
        "Вычислите, какое получилось сжатие"
      ]
    },
    {
      "cell_type": "code",
      "execution_count": 61,
      "metadata": {
        "id": "ohgo8JUGqhOk",
        "colab": {
          "base_uri": "https://localhost:8080/"
        },
        "outputId": "ff242690-80f3-4880-969d-cf0db90d4117"
      },
      "outputs": [
        {
          "output_type": "stream",
          "name": "stdout",
          "text": [
            "Compression(%):  180.43654001616815\n"
          ]
        }
      ],
      "source": [
        "print(\"Compression(%): \",len(textSample.encode('utf-8'))*8/len(encText)*100)"
      ]
    },
    {
      "cell_type": "markdown",
      "metadata": {
        "id": "IYxLCAwoqhOk"
      },
      "source": [
        "Поздравляем, вы сделали простой алгоритм сжатия) .... если у вас больше 100%"
      ]
    },
    {
      "cell_type": "markdown",
      "metadata": {
        "id": "edXi50rpqhOk"
      },
      "source": [
        "### Исследуем, как хорошо себя ведёт код при смене текста\n",
        "\n",
        "Сравните написанный кодер на двух понравившихся вам текстах на разные темы (возьмите по масштабу что-то похожее на страницу МО).\n",
        "\n",
        "1. Для чистоты эксперимента очистите оба текста от символов, которых нет в другом тексте\n",
        "2. Посчитайте таблицу частот для каждого из текстов\n",
        "3. Обучите кодер на тексте 1\n",
        "4. Обучите кодер на тексте 2\n",
        "5. Сопоставьте длину (в битах):\n",
        "   1. Текст1, закодированный кодером 1\n",
        "   2. Текст2, закодированный кодером 1\n",
        "   3. Текст1, закодированный кодером 2\n",
        "   4. Текст2, закодированный кодером 2\n",
        "6. Посчитайте KL-дивергенцию и кроссэнтропию в обе стороны между частотами кодера1 и кодера2\n",
        "\n",
        "Прокомментируйте результат.\n",
        "\n",
        "Не забудьте приложить к решению ваших два текстовых файла."
      ]
    },
    {
      "cell_type": "code",
      "execution_count": 62,
      "metadata": {
        "id": "txsjkv87qhOk"
      },
      "outputs": [],
      "source": [
        "with open(\"text1.txt\",\"r\", encoding=\"utf-8\") as f:\n",
        "    text1 = \"\\n\".join(f.readlines())[:10001]\n",
        "with open(\"text2.txt\",\"r\", encoding=\"utf-8\") as f:\n",
        "    text2 = \"\\n\".join(f.readlines())[:10001]"
      ]
    },
    {
      "cell_type": "code",
      "execution_count": 68,
      "metadata": {
        "id": "uQzluW_9qhOl"
      },
      "outputs": [],
      "source": [
        "common_chars = set(text1) & set(text2)\n",
        "text1_clean = ''.join([char for char in text1 if char in common_chars])\n",
        "text2_clean = ''.join([char for char in text2 if char in common_chars])"
      ]
    },
    {
      "cell_type": "code",
      "source": [
        "def compute_symbol_freqs(text):\n",
        "    sym_freqs = {}\n",
        "    for char in text:\n",
        "        if char in sym_freqs:\n",
        "            sym_freqs[char] += 1\n",
        "        else:\n",
        "            sym_freqs[char] = 1\n",
        "    return sym_freqs\n",
        "\n",
        "sym_freqs_text1 = compute_symbol_freqs(text1_clean)\n",
        "sym_freqs_text2 = compute_symbol_freqs(text2_clean)\n",
        "\n",
        "sym_freqs_text1 = OrderedDict(sorted(sym_freqs_text1.items()))\n",
        "sym_freqs_text2 = OrderedDict(sorted(sym_freqs_text2.items()))"
      ],
      "metadata": {
        "id": "_DUB973XmQlo"
      },
      "execution_count": 69,
      "outputs": []
    },
    {
      "cell_type": "code",
      "source": [
        "huffman_coder1 = HuffmanCoderDecoder(sym_freqs_text1)\n",
        "encoded_text1_by_coder1 = huffman_coder1.encode(text1_clean)\n",
        "encoded_text2_by_coder1 = huffman_coder1.encode(text2_clean)\n",
        "\n",
        "huffman_coder2 = HuffmanCoderDecoder(sym_freqs_text2)\n",
        "encoded_text1_by_coder2 = huffman_coder2.encode(text1_clean)\n",
        "encoded_text2_by_coder2 = huffman_coder2.encode(text2_clean)\n",
        "\n",
        "len_encoded_text1_by_coder1 = len(encoded_text1_by_coder1)\n",
        "len_encoded_text2_by_coder1 = len(encoded_text2_by_coder1)\n",
        "\n",
        "len_encoded_text1_by_coder2 = len(encoded_text1_by_coder2)\n",
        "len_encoded_text2_by_coder2 = len(encoded_text2_by_coder2)"
      ],
      "metadata": {
        "id": "fbY220e6jrBD"
      },
      "execution_count": 80,
      "outputs": []
    },
    {
      "cell_type": "code",
      "source": [
        "def compute_probabilities(sym_freqs):\n",
        "    total = sum(sym_freqs.values())\n",
        "    return {char: freq / total for char, freq in sym_freqs.items()}\n",
        "\n",
        "prob_text1 = compute_probabilities(sym_freqs_text1)\n",
        "prob_text2 = compute_probabilities(sym_freqs_text2)"
      ],
      "metadata": {
        "id": "7W0XesRxmpU0"
      },
      "execution_count": 81,
      "outputs": []
    },
    {
      "cell_type": "code",
      "source": [
        "def compute_entropy(prob_dist):\n",
        "    return -sum(p * np.log2(p) for p in prob_dist.values())\n",
        "\n",
        "H_text1 = compute_entropy(prob_text1)\n",
        "H_text2 = compute_entropy(prob_text2)"
      ],
      "metadata": {
        "id": "3NHYnQ6wmyQb"
      },
      "execution_count": 82,
      "outputs": []
    },
    {
      "cell_type": "code",
      "execution_count": 83,
      "metadata": {
        "id": "TyfgKCFvqhOl",
        "colab": {
          "base_uri": "https://localhost:8080/"
        },
        "outputId": "ae673e19-035b-43f1-9624-89fdcb43309b"
      },
      "outputs": [
        {
          "output_type": "stream",
          "name": "stdout",
          "text": [
            "KL(text1 | text2) = 0.15577056166462147\n",
            "KL(text2 | text1) = 0.13482257246679835\n",
            "CE(text1 | text2) = 5.304440397956053\n",
            "CE(text2 | text1) = 5.321322817184973\n",
            "H(text1) = 5.148669836291432\n",
            "H(text2) = 5.186500244718178\n"
          ]
        }
      ],
      "source": [
        "def compute_cross_entropy(p_true, p_model):\n",
        "    return -sum(p_true[char] * np.log2(p_model.get(char, 1e-10)) for char in p_true)\n",
        "\n",
        "def compute_kl_divergence(p_true, p_model):\n",
        "    return sum(p_true[char] * np.log2(p_true[char] / p_model.get(char, 1e-10)) for char in p_true)\n",
        "\n",
        "CE_text1_text2 = compute_cross_entropy(prob_text1, prob_text2)\n",
        "CE_text2_text1 = compute_cross_entropy(prob_text2, prob_text1)\n",
        "\n",
        "KL_text1_text2 = compute_kl_divergence(prob_text1, prob_text2)\n",
        "KL_text2_text1 = compute_kl_divergence(prob_text2, prob_text1)\n",
        "\n",
        "\n",
        "print(f\"KL(text1 | text2) = {KL_text1_text2}\")\n",
        "print(f\"KL(text2 | text1) = {KL_text2_text1}\")\n",
        "print(f\"CE(text1 | text2) = {CE_text1_text2}\")\n",
        "print(f\"CE(text2 | text1) = {CE_text2_text1}\")\n",
        "print(f\"H(text1) = {H_text1}\")\n",
        "print(f\"H(text2) = {H_text2}\")"
      ]
    },
    {
      "cell_type": "code",
      "execution_count": 84,
      "metadata": {
        "id": "-qGNX6CRqhOl",
        "colab": {
          "base_uri": "https://localhost:8080/"
        },
        "outputId": "69328476-7171-45d3-d990-7b701a59739e"
      },
      "outputs": [
        {
          "output_type": "stream",
          "name": "stdout",
          "text": [
            "Coding with text1: text1Len=51631, text2Len=53298\n",
            "Coding with text2: text1Len=52969, text2Len=51929\n"
          ]
        }
      ],
      "source": [
        "print(f\"Coding with text1: text1Len={len_encoded_text1_by_coder1}, text2Len={len_encoded_text2_by_coder1}\")\n",
        "print(f\"Coding with text2: text1Len={len_encoded_text1_by_coder2}, text2Len={len_encoded_text2_by_coder2}\")"
      ]
    },
    {
      "cell_type": "code",
      "execution_count": 85,
      "metadata": {
        "id": "iajhO9-EqhOl",
        "colab": {
          "base_uri": "https://localhost:8080/",
          "height": 1000
        },
        "outputId": "fec0709a-9ddf-461a-e970-aa785de6b1db"
      },
      "outputs": [
        {
          "output_type": "display_data",
          "data": {
            "text/plain": [
              "<Figure size 1000x1200 with 2 Axes>"
            ],
            "image/png": "[encoded data removed]"
          },
          "metadata": {}
        }
      ],
      "source": [
        "fig, ax = plt.subplots(nrows=2, ncols=1, figsize=(10, 12))\n",
        "\n",
        "chars1 = list(sym_freqs_text1.keys())\n",
        "freqs1 = [sym_freqs_text1[char] for char in chars1]\n",
        "\n",
        "chars2 = list(sym_freqs_text2.keys())\n",
        "freqs2 = [sym_freqs_text2[char] for char in chars2]\n",
        "\n",
        "ax[0].bar(chars1, freqs1)\n",
        "ax[0].set_title('Распределение символов в первом тексте')\n",
        "ax[0].set_xlabel('Символы')\n",
        "ax[0].set_ylabel('Частота')\n",
        "ax[0].set_xticks([])\n",
        "\n",
        "ax[1].bar(chars2, freqs2)\n",
        "ax[1].set_title('Распределение символов во втором тексте')\n",
        "ax[1].set_xlabel('Символы')\n",
        "ax[1].set_ylabel('Частота')\n",
        "ax[1].set_xticks([])\n",
        "\n",
        "plt.tight_layout()\n",
        "plt.show()"
      ]
    },
    {
      "cell_type": "markdown",
      "metadata": {
        "id": "tp0Bln7KqhOl"
      },
      "source": [
        "ВАШИ КОММЕНТАРИИ ЗДЕСЬ"
      ]
    },
    {
      "cell_type": "markdown",
      "source": [
        "Энтропии текстов text1 и text2 немного различаются, это говорит о разной степени неопределённости в символах каждого текста.\n",
        "\n",
        "Наш кодер обучен на первоначальном тексте и для сжатия этого же текста он работает более эффективно, чем для моих двух выбранных текстов так как структура кодера оптимизирована под частоты символов именно первоначального текста. Однако качество все равно близкое.\n",
        "\n",
        "KL-дивергенция и кросс-энтропия показывают, что распределения символов в текстах не полностью совпадают, хотя и похожи.\n",
        "На графиках видно, что распределение символов схоже поскольку тексты которые я выбрал это произведения на русском языке (в общем то как и страница вики которую мы брали)."
      ],
      "metadata": {
        "id": "b8f9sot2s3eJ"
      }
    }
  ],
  "metadata": {
    "colab": {
      "collapsed_sections": [
        "ZGDzE6YO9zYe",
        "g4hbID4f_ZW7",
        "ZDNXyjtgAdnv",
        "75QeT2ShA1KU"
      ],
      "provenance": []
    },
    "kernelspec": {
      "display_name": "Python 3 (ipykernel)",
      "language": "python",
      "name": "python3"
    },
    "language_info": {
      "codemirror_mode": {
        "name": "ipython",
        "version": 3
      },
      "file_extension": ".py",
      "mimetype": "text/x-python",
      "name": "python",
      "nbconvert_exporter": "python",
      "pygments_lexer": "ipython3",
      "version": "3.10.14"
    }
  },
  "nbformat": 4,
  "nbformat_minor": 0
}